{
 "cells": [
  {
   "cell_type": "markdown",
   "metadata": {},
   "source": [
    "# TP1 d'observations"
   ]
  },
  {
   "cell_type": "markdown",
   "metadata": {},
   "source": [
    "<h1><span style='color:red'>INTRODUCTION</span></h1> </br>\n",
    "\n",
    "L'objectif de ce TP est d'observer les différents éléments du réseau et d'en construire une représentation. L'outil utilisé est <b><em>netkit</em></b> qui permet de construire une architecture réseau à partir de machines virtuelles."
   ]
  },
  {
   "cell_type": "markdown",
   "metadata": {
    "raw_mimetype": "text/latex"
   },
   "source": [
    "<span style='color:red'> 1. Lancement du lab <br /></span>\n",
    "Récupérer sous Celene l'archive <em>labobs.tgz</em>. Une fois décompressé, se placer dans le dossier labobs et lancer la commande : <b><em>lstart</em></b>. Un ensemble de 16 machines virtuelles s'exécutent mais seuls deux terminaux pour alice et bob ont été lancés. Toutes les commandes seront exécutées sur une de ces deux machines. En revanche il sera possible de capturer des trames pour les observations sur différents réseaux de l'architecture construite dans ce lab. Pour cela le script <b><em>ecoute</em></b> est disponible et prend en paramètre le nom du réseau que l'on veut observer. Ce script permet de lancer <b><em>wireshark</em></b> un analyseur de paquets afin de capturer les trames échangées entre les machines virtuelles du lab. Il doit être lancé à partir du terminal de la machine hôte.\n"
   ]
  },
  {
   "cell_type": "markdown",
   "metadata": {},
   "source": [
    "<h1><span style='color:red'>PARTIE 1 : géographie du réseau</span></h1> </br>\n",
    "La première partie a pour objectif d'obtenir la géographie du réseau en utilisant des commandes simples localement ou de questions/réponses à un hôte distant. "
   ]
  },
  {
   "cell_type": "markdown",
   "metadata": {},
   "source": [
    "<span style='color:red'>2. Premières observations <br /></span>\n",
    "Sur alice et bob exécuter la commande : <b><em>ifconfig</em></b>"
   ]
  },
  {
   "cell_type": "raw",
   "metadata": {},
   "source": [
    "Quelles sont les différentes adresses d'alice et bob ?\n",
    "alice :41.13.0.50\n",
    "bob : 80.8.0.50 "
   ]
  },
  {
   "cell_type": "markdown",
   "metadata": {},
   "source": [
    "Sur bob exécuter la commande <b><em>ping 41.13.0.50</em></b> puis la commande <b><em>ping alice.blue.net</em></b> <br/><br/>\n",
    "Le nom du domaine auquel appartient bob est <b><em>red.net</em></b>. Quelles sont les deux commandes à exécuter sur alice permettant d'avoir une réponse de bob (<b><em>ping</em></b>)."
   ]
  },
  {
   "cell_type": "raw",
   "metadata": {},
   "source": [
    "Sur alice \n",
    "- ping 80.8.0.50\n",
    "- ping bob.red.net\n"
   ]
  },
  {
   "cell_type": "markdown",
   "metadata": {},
   "source": [
    "Sur alice exécuter à nouveau la commande <b><em>ping 80.8.0.50</em></b> mais en plaçant une sonde sur le réseau local d'alice. \n",
    "<ol>\n",
    "    <li>Sur la machine hôte exécuter la commande <b><em>./ecoute lana</em></b> </li>\n",
    "    <li>A partir d'alice exécuter <b><em>ping 80.8.0.50</em></b> </li> \n",
    "    <li>Observer les différents paquets échangés</li>\n",
    "    <li>Retrouver dans les trames ICMP les adresses manipulées</li>\n",
    "</ol>"
   ]
  },
  {
   "cell_type": "raw",
   "metadata": {},
   "source": [
    "41.13.0.50     80.8.0.50"
   ]
  },
  {
   "cell_type": "markdown",
   "metadata": {},
   "source": [
    "<span style='color:red'>3. Observations du cheminement avec routage</span> <br />\n",
    "Exécuter la commande <b><em>route -n </b></em> sur alice. Quel est le rôle de 41.13.0.1 ?"
   ]
  },
  {
   "cell_type": "raw",
   "metadata": {},
   "source": [
    "c'est la passerelle pour communiquer avec bob"
   ]
  },
  {
   "cell_type": "markdown",
   "metadata": {},
   "source": [
    "Exécuter la commande <b><em>traceroute -n 80.8.0.50 </b></em> sur alice et <b><em>traceroute -n 41.13.0.50 </b></em> sur bob. Quels sont les chemins suivis par les messages à partir d'alice et à partir de bob ? "
   ]
  },
  {
   "cell_type": "raw",
   "metadata": {},
   "source": [
    "alice : 41.13.0.1.1.2.3.4 10.0.0.2 2.3.4.110\n",
    "bob :80.8.0.1.2.3.4.5 10.0.0.1.1.2.3.54 41.13.0.50"
   ]
  },
  {
   "cell_type": "markdown",
   "metadata": {},
   "source": [
    "En utilisant les commandes vues précédemment, représenter schématiquement l'ensemble des machines sur la route entre alice et bob et les liens entre elles. Cette représentation sera à compléter dans la suite avec toutes les nouvelles machines observées."
   ]
  },
  {
   "cell_type": "markdown",
   "metadata": {},
   "source": [
    "<h1><span style='color:red'>PARTIE 2 : HTTP et SMTP</span></h1> </br>\n",
    "La seconde partie a pour objectif d'observer et utiliser des protocoles haut niveau."
   ]
  },
  {
   "cell_type": "markdown",
   "metadata": {},
   "source": [
    "<span style='color:red'>4. Observations du protocole http</span> <br />\n",
    "Sur alice exécuter la commande <b><em>lynx `http://www.lexique.com`</em></b>. Une page web doit s'afficher.<br />\n",
    "Quelle est l'adresse du serveur web `www.lexique.com` ?\n",
    "             "
   ]
  },
  {
   "cell_type": "raw",
   "metadata": {},
   "source": [
    "adresse de `www.lexique.com` : 9.9.9.9"
   ]
  },
  {
   "cell_type": "markdown",
   "metadata": {},
   "source": [
    "La commande <b><em>nmap</em></b> permet de scanner les ports ouverts sur une machine. Exécuter sur le terminal d'alice la commande <b><em>nmap `www.lexique.com`</em></b> pour définir le port associé à **http**. "
   ]
  },
  {
   "cell_type": "raw",
   "metadata": {},
   "source": [
    "http : 80/tcp"
   ]
  },
  {
   "cell_type": "markdown",
   "metadata": {},
   "source": [
    "A partir de bob exécuter à nouveau la commande <b><em>lynx `http://www.lexique.com`</em></b> mais en plaçant une sonde sur le réseau local de bob. \n",
    "<ol>\n",
    "    <li>Sur la machine hôte exécuter la commande <b><em>./ecoute lanb</em></b> </li>\n",
    "    <li>A partir de bob accéder à la page web <em> `www.lexique.com`</em> </li> \n",
    "    <li>Observer les différents paquets échangés (utiliser la fonction <b>suivre HTTP stream</b> à partir d'un clic droit sur la première trame http)</li>\n",
    "</ol>"
   ]
  },
  {
   "cell_type": "raw",
   "metadata": {},
   "source": [
    "Quels sont les différents protocoles présents : tcp http arp dns\n",
    "Quels sont les différentes étapes pour charger la page web : faire un schéma ...\n"
   ]
  },
  {
   "cell_type": "markdown",
   "metadata": {},
   "source": [
    "La commande nc pour netcat est un outil très utile pour tester des protocoles client-serveur. Il permet d'ouvrir des connexions réseau (sockets) et de réaliser des échanges en ligne de commande. <br/>\n",
    "Par exemple pour tester le protocole http dans le terminal de bob, lancer la même sonde que précédemment et reprendre les commandes :\n",
    "<ol>\n",
    "    <li>nc -v www.perdu.com 80</li>\n",
    "    <li>GET / HTTP/1.0</li>\n",
    "    <li>Host: www.perdu.com</li>\n",
    "    <li>Une ligne vide</li>\n",
    "    <li>Valider par la touche Entrée</li>\n",
    "</ol>"
   ]
  },
  {
   "cell_type": "markdown",
   "metadata": {},
   "source": [
    "# <span style='color:red'>5. Observations du protocole smtp</span> <br />\n",
    "Faire cette partie uniquement s'il vous reste beaucoup de temps !<br />\n",
    "A l'aide du logiciel <b><em>pine</em></b>, vérifier qu'alice et bob peuvent bien échanger des courriers électroniques. Leurs adresses respectives sont alice@jmail.com et bob@cold.net et leur mot de passe à tous les deux est *guest*. <br/>\n",
    "Dans la configuration de <b><em>pine</em></b>, identifiez les paramètres de connexion aux différents serveurs impliqués.             "
   ]
  },
  {
   "cell_type": "raw",
   "metadata": {},
   "source": [
    "alice : \n",
    "bob : "
   ]
  },
  {
   "cell_type": "markdown",
   "metadata": {},
   "source": [
    "Pour observer les échanges, lancer une sonde sur le réseau d'alice <b><em>./ecoute lana</em></b>. Avec <b><em>pine</em></b> d'alice rédiger un mail à destination de bob. Reproduire cet envoi avec **nc** après avoir cherché quel est le port ouvert pour le protocole smtp sur la machine smtp.jmail.com "
   ]
  },
  {
   "cell_type": "raw",
   "metadata": {},
   "source": [
    "nmap smtp.jmail.com \"port\"\n",
    "\n",
    "\n"
   ]
  },
  {
   "cell_type": "markdown",
   "metadata": {},
   "source": [
    "Compléter l'observation en lancant une sonde sur le réseau *rezo* <b><em>./ecoute rezo</em></b> et sur le réseau de bob <b><em>./ecoute lanb</em></b> . Quel est le chemin suivi par le mail jusqu'à bob ? Quel est le protocole utilisé pour la réception ?"
   ]
  },
  {
   "cell_type": "raw",
   "metadata": {},
   "source": [
    "le chemin :\n",
    "imap :"
   ]
  },
  {
   "cell_type": "markdown",
   "metadata": {},
   "source": [
    "<h1><span style='color:red'>PARTIE 3 : DNS</span></h1> </br>\n",
    "La troisième partie a pour objectif d'observer le fonctionnement du protocole DNS pour faire le lien entre adresses IP et noms de domaines."
   ]
  },
  {
   "cell_type": "markdown",
   "metadata": {},
   "source": [
    "<span style='color:red'>6. Observations du protocole DNS</span> <br />La commande <b><em>dig</em></b> (DNS lookup utility) permet de tester la résolution de nom. Exécuter <b><em>dig www.perdu.com</em></b> sur bob et sur alice."
   ]
  },
  {
   "cell_type": "raw",
   "metadata": {},
   "source": [
    "Quel est le serveur qui peut faire la résolution de nom ? ->  (sur bob : 2.3.4.110)  (sur alice : 1.2.3.54)\n",
    "Quels sont les échanges réalisés ?\n"
   ]
  },
  {
   "cell_type": "markdown",
   "metadata": {},
   "source": [
    "Sur alice et bob le fichier <b><em>/etc/resolv.conf</em></b> contient les informations sur le serveur DNS accessible pour la résolution de nom. Vérifier qu'on retrouve les informations précédentes (cat /etc/resolv.conf)."
   ]
  },
  {
   "cell_type": "markdown",
   "metadata": {},
   "source": [
    "Lancer deux sondes respectivement sur le réseau <b><em>lana</em></b> et <b><em>rezo</em></b> puis exécuter la commande <b><em>lynx http://www.lexique.com</em></b> sur alice. Observer les trames DNS dans les deux captures."
   ]
  },
  {
   "cell_type": "raw",
   "metadata": {},
   "source": [
    "nameserver 172.17.0.1\n",
    "\n"
   ]
  },
  {
   "cell_type": "markdown",
   "metadata": {},
   "source": [
    "Il est possible également d'utiliser la commande <b><em>dig -t MX jmail.com</em></b> pour trouver des informations sur un serveur smtp d'un domaine. Vérifier que les informations obtenues sont celles contenues dans les fichiers de configuration des clients mail."
   ]
  },
  {
   "cell_type": "markdown",
   "metadata": {},
   "source": [
    "<h1><span style='color:red'>PARTIE 4 : Configuration</span></h1>\n",
    "<br/>\n",
    "Quelques notions de configuration."
   ]
  },
  {
   "cell_type": "markdown",
   "metadata": {},
   "source": [
    "<span style='color:red'>7. Ajout d'une machine sur le réseau d'alice</span> <br />\n",
    "\n",
    "A partir de la machine hôte ajouter une machine au réseau <b>lana</b> avec la commande <b><em>vstart --eth0=lana anne </b></em> et la configurer \n",
    "<ol>\n",
    "   \n",
    "<li>ifconfig eth0 41.13.0.110/24</li>\n",
    "<li>route add default gw 41.13.0.1</li>\n",
    "<li>compléter le fichier /etc/resolv.conf</li>\n",
    "</ol>\n",
    "</br>\n",
    "Vérifier que les commandes suivantes fonctionnent\n",
    "<ol>\n",
    "    <li>lynx http://www.perdu.com </li>\n",
    "    <li>ping bob.red.net</li>\n",
    "</ol>"
   ]
  },
  {
   "cell_type": "markdown",
   "metadata": {},
   "source": [
    "<h1><span style='color:red'>PARTIE 5 : ARP</span></h1>\n",
    "<br/>\n",
    "Dans cette partie il s'agit d'observer comment s'effectue le transfert des messages d'une machine à l'autre. Quelles sont les adresses manipulées et les différentes étapes réalisées ?"
   ]
  },
  {
   "cell_type": "markdown",
   "metadata": {},
   "source": [
    "<span style='color:red'>8. Observations du rôle de ARP</span> <br />\n",
    "Sur alice exécuter la commande <b><em>ping -c 2 41.13.0.110</em></b> (ou <b><em>ping -c 2 41.13.0.1</em></b> si la partie 4 n'a pas été faite) après avoir lancé une sonde sur le réseau **lana**.\n",
    "<ol>\n",
    "    <li>Quelles sont les deux premières trames capturées ?</li>\n",
    "    <li>Quelles sont les adresses manipulées par ces deux premières trames ?</li>\n",
    "    <li>Et en particulier à qui est envoyée la première trame ? </li>\n",
    "    <li>Quel est le rôle d'ARP ? </li>\n",
    "    </ol>"
   ]
  },
  {
   "cell_type": "raw",
   "metadata": {},
   "source": []
  },
  {
   "cell_type": "markdown",
   "metadata": {},
   "source": [
    "Renouveler la commande <b><em>ping</b></em> sur alice. Quelles sont les nouvelles trames capturées ?"
   ]
  },
  {
   "cell_type": "raw",
   "metadata": {},
   "source": []
  },
  {
   "cell_type": "markdown",
   "metadata": {},
   "source": [
    "Exécuter la commande <b><em>arp -n </b><em> sur alice."
   ]
  },
  {
   "cell_type": "raw",
   "metadata": {},
   "source": [
    "contenu de la table :\n"
   ]
  },
  {
   "cell_type": "markdown",
   "metadata": {},
   "source": [
    "Observer les trames icmp capturées et en particulier les adresses MAC/IP."
   ]
  },
  {
   "cell_type": "raw",
   "metadata": {},
   "source": [
    "request : \n",
    "reply  : "
   ]
  },
  {
   "cell_type": "markdown",
   "metadata": {},
   "source": [
    "<span style='color:red'>9. Dernière commande </span> <br />Pour arrếter le lab exécuter la commande <b><em>lcrash</em></b>"
   ]
  }
 ],
 "metadata": {
  "celltoolbar": "Format de la Cellule Texte Brut",
  "kernelspec": {
   "display_name": "Python 3",
   "language": "python",
   "name": "python3"
  },
  "language_info": {
   "codemirror_mode": {
    "name": "ipython",
    "version": 3
   },
   "file_extension": ".py",
   "mimetype": "text/x-python",
   "name": "python",
   "nbconvert_exporter": "python",
   "pygments_lexer": "ipython3",
   "version": "3.5.3"
  }
 },
 "nbformat": 4,
 "nbformat_minor": 2
}
